{
 "cells": [
  {
   "cell_type": "markdown",
   "metadata": {},
   "source": [
    "# Problem 1\n",
    "`ogrenciler` adında bir sözlük oluşturunuz. Kullanıcıdan döngü yardımıyla 3 öğrenci için veri girmesini isteyerek öğrencilerin sırasıyla okul numarası, isim, soy isim, telefon numarası ve doğum tarihi bilgilerini alınız. Aldığınız öğrenci bilgilerini yine aynı döngü yardımıyla `ogrenciler` adındaki sözlükte saklayınız. Daha sonra öğrenci bilgilerinin bulunduğu sözlük yapısını ekrana bastırınız.\n",
    "\n"
   ]
  },
  {
   "cell_type": "code",
   "execution_count": 4,
   "metadata": {},
   "outputs": [
    {
     "name": "stdout",
     "output_type": "stream",
     "text": [
      "{'122': {'Ad': 'ass', 'Soyad': 'ass', 'Telefon': '032323223', 'Doğum Tarihi': '2111'}, '21121': {'Ad': 'asdasd', 'Soyad': 'asdada', 'Telefon': '023412124', 'Doğum Tarihi': '21244'}, '41414': {'Ad': 'sdads', 'Soyad': 'adad', 'Telefon': '4124124124', 'Doğum Tarihi': '2131'}}\n"
     ]
    }
   ],
   "source": [
    "ogrenciler = {}\n",
    "for i in range(3):\n",
    "    okul_no = input(\"{}. öğrencinin okul numarasını girin: \".format(i+1))\n",
    "    ad = input(\"{}. öğrencinin adını girin: \".format(i+1))\n",
    "    soyad = input(\"{}. öğrencinin soyadını girin: \".format(i+1))\n",
    "    tel_no = input(\"{}. öğrencinin telefon numarasını girin: \".format(i+1))\n",
    "    dogum_tarihi = input(\"{}. öğrencinin doğum tarihini girin: \".format(i+1))\n",
    "    ogrenciler[okul_no] = {\"Ad\": ad, \"Soyad\": soyad, \"Telefon\": tel_no, \"Doğum Tarihi\": dogum_tarihi}\n",
    "print(ogrenciler)\n"
   ]
  },
  {
   "cell_type": "markdown",
   "metadata": {},
   "source": [
    "# Problem 2\n",
    "\n",
    "### a - Biraz ısınarak başlayalım!\n",
    "\n",
    "```\n",
    "numbers = [5,10,10,15,15,15,20,20,20,20]\n",
    "```\n",
    "\n",
    "Yukarıda `numbers` adında 10 elemanlı bir liste verilmiştir. Bu listenin her elemanını kontrol eden ve tekrar eden elemanları bir kez olacak şekilde başka bir listeye kopyalayan bir program yazınız. Son olarak oluşturduğunuz listeyi ekrana bastırınız.\n",
    "\n",
    "\n",
    "\n",
    "\n",
    "```\n",
    ">Output\n",
    "[5, 10, 15, 20]\n",
    "```\n"
   ]
  },
  {
   "cell_type": "code",
   "execution_count": 5,
   "metadata": {},
   "outputs": [
    {
     "name": "stdout",
     "output_type": "stream",
     "text": [
      "[5, 10, 15, 20]\n"
     ]
    }
   ],
   "source": [
    "numbers = [5,10,10,15,15,15,20,20,20,20]\n",
    "unique_numbers = []\n",
    "\n",
    "for num in numbers:\n",
    "    if num not in unique_numbers:\n",
    "        unique_numbers.append(num)\n",
    "\n",
    "print(unique_numbers)\n"
   ]
  },
  {
   "cell_type": "markdown",
   "metadata": {},
   "source": [
    "### 🌶️ b) Hadi işi biraz daha zorlaştıralım! \n",
    "\n",
    "\n",
    "Şimdiyse senden `numbers` isimli listedeki tekrar eden elemanları `repeatNumbers` adındaki listeye; tekrar etmeyen elemanları `uniqueNumbers`adındaki listeye kopyalayan yazmanı ve listeleri ekrana bastırmanı bekliyoruz\n",
    "\n",
    "```\n",
    ">Output\n",
    "Tekrar Eden Elemanlar: [10, 10, 15, 15, 15, 20, 20, 20, 20]\n",
    "Tekrar Etmeyen Elemanlar: [5]\n",
    "```"
   ]
  },
  {
   "cell_type": "code",
   "execution_count": 6,
   "metadata": {},
   "outputs": [
    {
     "name": "stdout",
     "output_type": "stream",
     "text": [
      "Tekrar Eden Elemanlar: [10, 15, 20]\n",
      "Tekrar Etmeyen Elemanlar: [5, 10, 15, 20]\n"
     ]
    }
   ],
   "source": [
    "numbers = [5,10,10,15,15,15,20,20,20,20]\n",
    "\n",
    "repeatNumbers = []\n",
    "uniqueNumbers = []\n",
    "\n",
    "for num in numbers:\n",
    "    if num not in uniqueNumbers:\n",
    "        uniqueNumbers.append(num)\n",
    "    else:\n",
    "        if num not in repeatNumbers:\n",
    "            repeatNumbers.append(num)\n",
    "\n",
    "print(\"Tekrar Eden Elemanlar:\", repeatNumbers)\n",
    "print(\"Tekrar Etmeyen Elemanlar:\", uniqueNumbers)"
   ]
  },
  {
   "cell_type": "markdown",
   "metadata": {},
   "source": [
    "# Problem 3\n",
    "sn1 = {1,2,3,4,5}\n",
    "\n",
    "sn2 = {4,5,6,7,8}\n",
    "\n",
    " Verilen 2 adet küme için kesişimlerini, farklarını ve birleşimlerini bulunuz. "
   ]
  },
  {
   "cell_type": "code",
   "execution_count": 7,
   "metadata": {},
   "outputs": [
    {
     "name": "stdout",
     "output_type": "stream",
     "text": [
      "Kesişim: {4, 5}\n",
      "sn1 - sn2 Farkı: {1, 2, 3}\n",
      "sn2 - sn1 Farkı: {8, 6, 7}\n",
      "Birleşim: {1, 2, 3, 4, 5, 6, 7, 8}\n"
     ]
    }
   ],
   "source": [
    "sn1 = {1,2,3,4,5}\n",
    "sn2 = {4,5,6,7,8}\n",
    "\n",
    "kesisim = sn1.intersection(sn2)\n",
    "fark1 = sn1.difference(sn2)\n",
    "fark2 = sn2.difference(sn1)\n",
    "birlesim = sn1.union(sn2)\n",
    "\n",
    "print(\"Kesişim:\", kesisim)\n",
    "print(\"sn1 - sn2 Farkı:\", fark1)\n",
    "print(\"sn2 - sn1 Farkı:\", fark2)\n",
    "print(\"Birleşim:\", birlesim)"
   ]
  },
  {
   "cell_type": "markdown",
   "metadata": {},
   "source": [
    "# Problem 4\n",
    "\n",
    "Buradaki işlemlerimizin tamamı stringler içindir. Aşağıda verilecek olan metodlar için kendinizin örnek yaratması gerekmektedir. \n",
    "\n",
    "Örneğin `upper` için `string` değişkeni oluştururken` k = \"BAC\"` şeklinde oluşturmayınız. Bunun yerine k değişkenini `k = \"bac`\" şeklinde oluşturmanız `upper` metodundaki değişimi görebilmeniz için daha iyi olacaktır.\n",
    "\n",
    "Bütün metodlardaki değişimin gözle görülür şekilde değişimi beklenmektedir.\n",
    "\n",
    "\n",
    "1- capitalize(), lower(), upper(), swapcase(), title(), replace()\n",
    "\n",
    "2- endswith(), startswith(), find(), index(), count()\n",
    "\n",
    "3- split(), strip(), join(), islower(), isalpha(), isdigit()\n",
    "\n",
    "\n",
    "Yukarıdaki `string` metodlarındaki değişimleri görebildiğimiz bir program yazınız.\n"
   ]
  },
  {
   "cell_type": "code",
   "execution_count": 8,
   "metadata": {},
   "outputs": [
    {
     "name": "stdout",
     "output_type": "stream",
     "text": [
      "capitalize(): Kara kedi, kara kara yedi kilo kuru kayısıyı karnında taşıyordu.\n",
      "lower(): kara kedi, kara kara yedi kilo kuru kayısıyı karnında taşıyordu.\n",
      "upper(): KARA KEDI, KARA KARA YEDI KILO KURU KAYISIYI KARNINDA TAŞIYORDU.\n",
      "swapcase(): kARA KEDI, KARA KARA YEDI KILO KURU KAYISIYI KARNINDA TAŞIYORDU.\n",
      "title(): Kara Kedi, Kara Kara Yedi Kilo Kuru Kayısıyı Karnında Taşıyordu.\n",
      "replace(): Kara köpek, kara kara yedi kilo kuru kayısıyı karnında taşıyordu.\n",
      "endswith(): True\n",
      "startswith(): True\n",
      "find(): 5\n",
      "index(): 21\n",
      "count(): 2\n",
      "split(): ['Kara', 'kedi,', 'kara', 'kara', 'yedi', 'kilo', 'kuru', 'kayısıyı', 'karnında', 'taşıyordu.']\n",
      "strip(): Kara kedi, kara kara yedi kilo kuru kayısıyı karnında taşıyordu.\n",
      "join(): Kara-kedi,-kara-kara-yedi-kilo-kuru-kayısıyı-karnında-taşıyordu.\n",
      "islower(): False\n",
      "isalpha(): False\n",
      "isdigit(): False\n"
     ]
    }
   ],
   "source": [
    "text = \"Kara kedi, kara kara yedi kilo kuru kayısıyı karnında taşıyordu.\"\n",
    "text_capitalize = text.capitalize()\n",
    "print(\"capitalize():\", text_capitalize)\n",
    "\n",
    "text_lower = text.lower()\n",
    "print(\"lower():\", text_lower)\n",
    "\n",
    "text_upper = text.upper()\n",
    "print(\"upper():\", text_upper)\n",
    "\n",
    "text_swapcase = text.swapcase()\n",
    "print(\"swapcase():\", text_swapcase)\n",
    "\n",
    "text_title = text.title()\n",
    "print(\"title():\", text_title)\n",
    "\n",
    "text_replace = text.replace(\"kedi\", \"köpek\")\n",
    "print(\"replace():\", text_replace)\n",
    "\n",
    "text_endswith = text.endswith(\"du.\")\n",
    "print(\"endswith():\", text_endswith)\n",
    "\n",
    "text_startswith = text.startswith(\"Kara\")\n",
    "print(\"startswith():\", text_startswith)\n",
    "\n",
    "text_find = text.find(\"kedi\")\n",
    "print(\"find():\", text_find)\n",
    "\n",
    "text_index = text.index(\"yedi\")\n",
    "print(\"index():\", text_index)\n",
    "\n",
    "text_count = text.count(\"kara\")\n",
    "print(\"count():\", text_count)\n",
    "\n",
    "text_split = text.split()\n",
    "print(\"split():\", text_split)\n",
    "\n",
    "text_strip = text.strip()\n",
    "print(\"strip():\", text_strip)\n",
    "\n",
    "text_join = \"-\".join(text_split)\n",
    "print(\"join():\", text_join)\n",
    "\n",
    "text_islower = text.islower()\n",
    "print(\"islower():\", text_islower)\n",
    "\n",
    "text_isalpha = text.isalpha()\n",
    "print(\"isalpha():\", text_isalpha)\n",
    "\n",
    "text_isdigit = text.isdigit()\n",
    "print(\"isdigit():\", text_isdigit)\n"
   ]
  }
 ],
 "metadata": {
  "kernelspec": {
   "display_name": "Python 3.10.5 64-bit",
   "language": "python",
   "name": "python3"
  },
  "language_info": {
   "codemirror_mode": {
    "name": "ipython",
    "version": 3
   },
   "file_extension": ".py",
   "mimetype": "text/x-python",
   "name": "python",
   "nbconvert_exporter": "python",
   "pygments_lexer": "ipython3",
   "version": "3.11.1"
  },
  "orig_nbformat": 4,
  "vscode": {
   "interpreter": {
    "hash": "5026d2d6e7aaaaba093def813beadff083d8733e4a511af01735cbabd156995d"
   }
  }
 },
 "nbformat": 4,
 "nbformat_minor": 2
}
