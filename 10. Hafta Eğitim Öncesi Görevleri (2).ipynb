{
 "cells": [
  {
   "attachments": {},
   "cell_type": "markdown",
   "metadata": {},
   "source": [
    "# Problem 1"
   ]
  },
  {
   "cell_type": "code",
   "execution_count": null,
   "metadata": {},
   "outputs": [],
   "source": [
    "# 1 - numpy kütüphanesini import edin\n",
    "import numpy as np\n",
    "\n",
    "# 2 - 0 ile 10 arasında 5 sayıdan oluşan matris üretin\n",
    "matris = np.random.randint(0, 10, size=(5))\n",
    "\n",
    "# 3 - matris'in boyutunu öğrenin\n",
    "print(\"Matrisin Boyutu:\", matris.shape)\n",
    "\n",
    "# 4 - matris'i yeniden boyutlandırın\n",
    "matris = matris.reshape(1,5)\n",
    "\n",
    "# 5 - matris'in boyut sayısını öğrenin\n",
    "print(\"Matrisin Boyut Sayısı:\", matris.ndim)\n"
   ]
  },
  {
   "attachments": {},
   "cell_type": "markdown",
   "metadata": {},
   "source": [
    "# Problem 2"
   ]
  },
  {
   "cell_type": "code",
   "execution_count": null,
   "metadata": {},
   "outputs": [],
   "source": [
    "# 1 - 0 ile 10 arasında bulunan tek sayılardan oluşan matris üretin\n",
    "matris = np.arange(1, 10, 2).reshape(2, 2)\n",
    "\n",
    "# 2 - Oluşturduğunuz matrisi parçalayın\n",
    "ust, alt = np.vsplit(matris, 2)\n",
    "sol, sag = np.hsplit(matris, 2)\n",
    "\n",
    "# 3 - Parçalanmış matrisleri birleştirin\n",
    "birlesik_1 = np.concatenate((ust, alt), axis=0)\n",
    "birlesik_2 = np.concatenate((sol, sag), axis=1)\n",
    "\n",
    "print(\"Orijinal Matris:\\n\", matris)\n",
    "print(\"Üst Matris:\\n\", ust)\n",
    "print(\"Alt Matris:\\n\", alt)\n",
    "print(\"Sol Matris:\\n\", sol)\n",
    "print(\"Sağ Matris:\\n\", sag)\n",
    "print(\"Birleştirilmiş Matris (axis=0):\\n\", birlesik_1)\n",
    "print(\"Birleştirilmiş Matris (axis=1):\\n\", birlesik_2)\n",
    "\n"
   ]
  },
  {
   "attachments": {},
   "cell_type": "markdown",
   "metadata": {},
   "source": [
    "# Problem 3"
   ]
  },
  {
   "cell_type": "code",
   "execution_count": null,
   "metadata": {},
   "outputs": [],
   "source": [
    "# 1 - 5 ile 100 arasında ikişer ikişer atlayarak rastgele 10 sayıdan oluşan matris üretin\n",
    "matris = np.arange(5, 101, 2)\n",
    "np.random.shuffle(matris)\n",
    "matris = matris[:10].reshape(2, 5)\n",
    "\n",
    "# 2 - matris'in özelliklerini inceleyin\n",
    "print(\"Matris:\\n\", matris)\n",
    "print(\"Boyutu:\", matris.shape)\n",
    "print(\"Boyut Sayısı:\", matris.ndim)\n",
    "print(\"Eleman Sayısı:\", matris.size)\n",
    "print(\"Veri Tipi:\", matris.dtype)\n",
    "print(\"Eleman Boyutu:\", matris.itemsize, \"byte\")\n",
    "print(\"Toplam Boyutu:\", matris.nbytes, \"byte\")\n",
    "\n"
   ]
  }
 ],
 "metadata": {
  "kernelspec": {
   "display_name": "Python 3",
   "language": "python",
   "name": "python3"
  },
  "language_info": {
   "name": "python",
   "version": "3.10.5 (tags/v3.10.5:f377153, Jun  6 2022, 16:14:13) [MSC v.1929 64 bit (AMD64)]"
  },
  "orig_nbformat": 4,
  "vscode": {
   "interpreter": {
    "hash": "5026d2d6e7aaaaba093def813beadff083d8733e4a511af01735cbabd156995d"
   }
  }
 },
 "nbformat": 4,
 "nbformat_minor": 2
}
