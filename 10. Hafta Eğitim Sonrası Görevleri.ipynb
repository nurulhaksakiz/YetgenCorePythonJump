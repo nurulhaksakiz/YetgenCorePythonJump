{
 "cells": [
  {
   "attachments": {},
   "cell_type": "markdown",
   "metadata": {},
   "source": [
    "# Problem 1 "
   ]
  },
  {
   "cell_type": "code",
   "execution_count": null,
   "metadata": {},
   "outputs": [],
   "source": [
    "# 1 - numpy kütüphanesini import edin\n",
    "import numpy as np\n",
    "\n",
    "# 2 - 5 elemanlı bir numpy array oluşturun\n",
    "arr = np.array([5, 3, 1, 2, 4])\n",
    "\n",
    "# 3 - Oluşturduğunuz arrayi küçükten büyüğe sıralayın.\n",
    "arr_sorted = np.sort(arr)\n",
    "\n",
    "print(\"Orijinal Array: \", arr)\n",
    "print(\"Sıralanmış Array: \", arr_sorted)\n",
    "\n"
   ]
  },
  {
   "attachments": {},
   "cell_type": "markdown",
   "metadata": {},
   "source": [
    "# Problem 2"
   ]
  },
  {
   "cell_type": "code",
   "execution_count": null,
   "metadata": {},
   "outputs": [],
   "source": [
    "# 1- (10,15,30,45,60) değerlerine sahip numpy dizisi oluşturunuz.\n",
    "import numpy as np\n",
    "\n",
    "arr1 = np.array([10, 15, 30, 45, 60])\n",
    "print(\"1- \", arr1)\n",
    "\n",
    "# 2- (5-15) arasındaki sayılarla numpy dizisi oluşturunuz.\n",
    "arr2 = np.arange(5, 16)\n",
    "print(\"2- \", arr2)\n",
    "\n",
    "# 3- (50-100) arasında 5'er 5'er artarak numpy dizisi oluşturunuz.\n",
    "arr3 = np.arange(50, 101, 5)\n",
    "print(\"3- \", arr3)\n",
    "\n",
    "# 4- 10 elemanlı sıfırlardan oluşan bir dizi oluşturunuz.\n",
    "arr4 = np.zeros(10)\n",
    "print(\"4- \", arr4)\n",
    "\n",
    "# 5- 10 elemanlı birlerden oluşan bir dizi oluşturunuz.\n",
    "arr5 = np.ones(10)\n",
    "print(\"5- \", arr5)\n",
    "\n",
    "# 6- (0-100) arasında eşit aralıklı 5 sayı üretin.\n",
    "arr6 = np.linspace(0, 100, 5)\n",
    "print(\"6- \", arr6)\n",
    "\n",
    "# 7- (10-30) arasında rastgele 5 tane tamsayı üretin.\n",
    "arr7 = np.random.randint(10, 30, 5)\n",
    "print(\"7- \", arr7)\n",
    "\n",
    "# 8- [-1 ile 1] arasında 10 adet sayı üretin.\n",
    "arr8 = np.random.uniform(-1, 1, 10)\n",
    "print(\"8- \", arr8)\n",
    "\n",
    "# 9- (3x5) boyutlarında (10-50) arasında rastgele bir matris oluşturunuz.\n",
    "mat = np.random.randint(10, 51, size=(3, 5))\n",
    "print(\"9- \\n\", mat)\n",
    "\n",
    "# 10- Üretilen matrisin satır ve sütun sayıları toplamlarını hesaplayınız ?\n",
    "row_sum = np.sum(mat, axis=1)\n",
    "col_sum = np.sum(mat, axis=0)\n",
    "print(\"10- Row Sum: \", row_sum)\n",
    "print(\"    Col Sum: \", col_sum)\n",
    "\n",
    "# 11- Üretilen matrisin en büyük, en küçük ve ortalaması nedir ?\n",
    "max_val = np.max(mat)\n",
    "min_val = np.min(mat)\n",
    "mean_val = np.mean(mat)\n",
    "print(\"11- Max Val: \", max_val)\n",
    "print(\"    Min Val: \", min_val)\n",
    "print(\"    Mean Val: \", mean_val)\n",
    "\n",
    "# 12- Üretilen matrisin en büyük değerinin indeksi kaçtır ?\n",
    "max_index = np.argmax(mat)\n",
    "print(\"12- Max Index: \", max_index)\n",
    "\n",
    "# 13- (10-20) arasındaki sayıları içeren dizinin ilk 3 elemanını seçiniz.\n",
    "arr13 = np.arange(10, 21)\n",
    "arr13_select = arr13[:3]\n",
    "print(\"13- \", arr13_select)\n",
    "\n",
    "\n",
    "# 14- Üretilen dizinin elemanlarını tersten yazdırın.\n",
    "arr14 = np.flip(mat)\n",
    "\n",
    "\n",
    "# 15- Üretilen matrisin ilk satırını seçiniz.\n",
    "\n",
    "first_row = mat[0]\n",
    "\n",
    "# 16- Üretilen matrisin 2.satır 3.sütundaki elemanı hangisidir ?\n",
    "elem_2_3 = mat[1, 2]\n",
    "\n",
    "\n",
    "# 17- Üretilen matrisin tüm satırlardaki ilk elemanı seçiniz.\n",
    "first_elems = mat[:, 0]\n",
    "\n",
    "\n",
    "# 18- Üretilen matrisin her bir elemanının karesini alınız.\n",
    "squares = np.square(mat)\n",
    "\n",
    "\n",
    "# 19- Üretilen matris elemanlarının hangisi pozitif çift sayıdır ? Aralığı (-50,+50) arasında yapınız.\n",
    "pos_even_nums = mat[(mat > 0) & (mat % 2 == 0)]\n"
   ]
  }
 ],
 "metadata": {
  "kernelspec": {
   "display_name": "Python 3",
   "language": "python",
   "name": "python3"
  },
  "language_info": {
   "name": "python",
   "version": "3.10.5 (tags/v3.10.5:f377153, Jun  6 2022, 16:14:13) [MSC v.1929 64 bit (AMD64)]"
  },
  "orig_nbformat": 4,
  "vscode": {
   "interpreter": {
    "hash": "5026d2d6e7aaaaba093def813beadff083d8733e4a511af01735cbabd156995d"
   }
  }
 },
 "nbformat": 4,
 "nbformat_minor": 2
}
