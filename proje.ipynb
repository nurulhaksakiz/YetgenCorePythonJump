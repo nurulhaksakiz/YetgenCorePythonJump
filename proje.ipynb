import random
import time

class Film:
    def __init__(self, isim, ipucu1, ipucu2, ipucu3, ipucu4):
        self.isim = isim
        self.ipucu1 = ipucu1
        self.ipucu2 = ipucu2
        self.ipucu3 = ipucu3
        self.ipucu4 = ipucu4

filmler = [
    Film("Before Sunrise", "Romantik film", "Ethan Hawke", "Julie Delpy", "yönetmen:richard linklater"),
    Film("Prestij", "Büyücülük temalı", "Hugh Jackman", "Christopher Nolan Filmi", "Scarlett Johansson"),
    Film("Inception", "Rüya konulu", "Leonardo DiCaprio", "Christopher Nolan filmi", "karakter adı : cobb"),
    Film("Interstellar", "Uzayda geçiyor", "Matthew McConaughey", "karakter adı:cooper", "görsel efekt dalında oscar"),
    Film("The Shawshank Redemption", "Hapishanede geçiyor", "Tim Robbins", "imdb puanı 9", "1994 yapım"),
    Film("The Godfather", "Mafya filmi", "Marlon Brando", "imdb puanı 9.2", "1972 yapım"),
    Film("The Dark Knight", "Batman filmlerinden biri", "Christian Bale", "Christopher Nolan filmi", "Heath Ledger Joker rolünde"),
    Film("Forrest Gump", "Komedi-drama filmi", "Tom Hanks", "imdb puanı 8.8", "1994 yapım"),
    Film("Titanic", "Romantik film", "Leonardo DiCaprio", "Kate Winslet", "Gerçek bir olaydan esinlenilmiş bir film"),
    Film("Joker", "Kötü karakterin hikayesi", "Joaquin Phoenix", "En İyi Erkek Oyuncu Oscarı", "Todd Phillips filmi"),
    Film("Fight Club", "Dövüş kulübü adlı yerde başlıyor", "Brad Pitt", "David Fincher filmi", "Edward Norton"),
    Film("The Matrix", "Bilim kurgu filmi", "Keanu Reeves", "1999 yapımı", "Yönetmen:Wachowski Kardeşler"),
    Film("The Lord of the Rings: The Fellowship of the Ring", "Fantastik film", "Elijah Wood", "En İyi Film Akademi Ödülü", "Peter Jackson filmi"),
    Film("The Silence of the Lambs", "Korku-gerilim filmi", "Anthony Hopkins", "En İyi Film Akademi Ödülü", "1991 yapım"),
    Film("The Green Mile", "Hapishanede geçiyor", "Tom Hanks", "Stephen King uyarlaması", "1999 yapım"),
    Film("The Prestige", "Büyücülük temalı", "Hugh Jackman", "Christopher Nolan filmi", "Christian Bale"),
    Film("Shutter Island", "Psikolojik gerilim filmi", "Leonardo DiCaprio", "Martin Scorsese filmi", "2010 yapım"),
    Film("The Departed", "Mafya filmi", "Leonardo DiCaprio", "Martin Scorsese filmi", "En İyi Film Akademi Ödülü"),
    Film("Önceki Gece", "Romantik film", "Ethan Hawke", "Julie Delpy", "yönetmen: Richard Linklater"),
    Film("Prestij", "Büyücülük temalı", "Hugh Jackman", "Christopher Nolan Filmi", "Scarlett Johansson"),
    Film("Başlangıç", "Rüya konulu", "Leonardo DiCaprio", "Christopher Nolan filmi", "karakter adı: Cobb"),
    Film("Yıldızlararası", "Uzayda geçiyor", "Matthew McConaughey", "karakter adı: Cooper", "görsel efekt dalında Oscar"),
    Film("Esaretin Bedeli", "Hapishanede geçiyor", "Tim Robbins", "IMDb puanı 9", "1994 yapım"),
    Film("Baba", "Mafya filmi", "Marlon Brando", "IMDb puanı 9.2", "1972 yapım"),
    Film("Kara Şövalye", "Batman filmlerinden biri", "Christian Bale", "Christopher Nolan filmi", "Heath Ledger Joker rolünde"),
    Film("Forrest Gump", "Komedi-drama filmi", "Tom Hanks", "IMDb puanı 8.8", "1994 yapım"),
    Film("Titanic", "Romantik film", "Leonardo DiCaprio", "Kate Winslet", "Gerçek bir olaydan esinlenilmiş bir film"),
    Film("Joker", "Kötü karakterin hikayesi", "Joaquin Phoenix", "En İyi Erkek Oyuncu Oscarı", "Todd Phillips filmi"),
    Film("Dövüş Kulübü", "Dövüş kulübü adlı yerde başlıyor", "Brad Pitt", "David Fincher filmi", "Edward Norton"),
    Film("Matrix", "Bilim kurgu filmi", "Keanu Reeves", "1999 yapımı", "Yönetmen: Wachowski Kardeşler"),
    Film("Yüzüklerin Efendisi: Yüzük Kardeşliği", "Fantastik film", "Elijah Wood", "En İyi Film Akademi Ödülü", "Peter Jackson filmi"),
    Film("Kuzuların Sessizliği", "Korku-gerilim filmi", "Anthony Hopkins", "En İyi Film Akademi Ödülü", "1991 yapım"),
    Film("Yeşil Yol", "Hapishanede geçiyor", "Tom Hanks", "Stephen King uyarlaması", "1999 yapım"),
    Film("Sihirbazlar Çetesi", "Büyücülük temalı", "Hugh Jackman", "Christopher Nolan filmi", "Christian Bale"),
    Film("Zindan Adası", "Psikolojik gerilim filmi", "Leonardo DiCaprio", "Martin Scorsese filmi", "2010 yapım"),
    Film("İhtiyar Delikanlı", "Mafya filmi", "Leonardo DiCaprio", "Martin Scorsese filmi", "En İyi Film Akademi Ödülü"),Film("Gladyatör", "Epik aksiyon filmi", "Russell Crowe", "En İyi Film Akademi Ödülü", "2000 yapımı"),
    Film("Yüzüklerin Efendisi: Kralın Dönüşü", "Fantastik film", "Elijah Wood", "En İyi Film Akademi Ödülü", "Peter Jackson filmi"),
    Film("Yıldız Savaşları: Bölüm V - İmparator", "Bilim kurgu filmi", "Harrison Ford", "1980 yapımı", "Yönetmen: Irvin Kershner"),
    Film("Inglourious Basterds", "Savaş filminin alternatif tarihi", "Brad Pitt", "Quentin Tarantino filmi", "Christoph Waltz"),
    Film("Yıldız Savaşları: Bölüm IV - Yeni Bir Umut", "Bilim kurgu filmi", "Mark Hamill", "1977 yapımı", "Yönetmen: George Lucas"),
    Film("Se7en", "Psikolojik gerilim filmi", "Brad Pitt", "David Fincher filmi", "Morgan Freeman"),
    Film("Aralık Çocukları", "Noel teması olan aile filmi", "Macaulay Culkin", "1990 yapımı", "Yönetmen: Chris Columbus"),
    Film("Kara Şövalye Yükseliyor", "Batman filmlerinden biri", "Christian Bale", "Christopher Nolan filmi", "Tom Hardy"),
    Film("Cennetin Krallığı", "Epik savaş filmi", "Orlando Bloom", "Ridley Scott filmi", "2005 yapımı"),
    Film("The Lion King", "Animasyon filmi", "Matthew Broderick", "1994 yapımı", "Yönetmenler: Roger Allers, Rob Minkoff"),
    Film("Schindler'in Listesi", "Holokost teması olan savaş filmi", "Liam Neeson", "En İyi Film Akademi Ödülü", "Steven Spielberg filmi"),
    Film("Kara Şövalye", "Batman filmlerinden biri", "Christian Bale", "Christopher Nolan filmi", "Heath Ledger Joker rolünde"),
    Film("Hayat Güzeldir", "Holokost teması olan komedi-drama filmi", "Roberto Benigni", "En İyi Film Akademi Ödülü", "1997 yapımı"),
    Film("Bir Rüya İçin Ağıt", "Neo-noir filmi", "Guy Pearce", "Christopher Nolan filmi", "Carrie-Anne Moss"),
    Film("Esrarengiz Şöhret", "Dram filmi", "Kevin Spacey", "En İyi Film Akademi Ödülü", "1999 yapımı"),
    Film("Kaybedenler Kulübü", "Drama filmi", "Brad Pitt", "David Fincher filmi", "Edward Norton"),
    Film("Baba", "Mafya filmi", "Marlon Brando", "En İyi Film Akademi Ödülü", "1972 yapımı"),
    Film("Leon", "Aksiyon filmi", "Jean Reno", "1994 yapımı", "Yönetmen: Luc Besson"),Film("Yıldızlararası", "Uzayda geçiyor", "Matthew McConaughey", "Anne Hathaway", "Christopher Nolan filmi"),
    Film("Yağmur Adam", "Drama filmi", "Dustin Hoffman", "Tom Cruise", "En İyi Film Akademi Ödülü"),
    Film("Gladyatör", "Tarihi aksiyon filmi", "Russell Crowe", "Joaquin Phoenix", "En İyi Film Akademi Ödülü"),
    Film("Kara Şövalye Yükseliyor", "Batman filmlerinden biri", "Christian Bale", "Tom Hardy", "Christopher Nolan filmi"),
    Film("Schindler'in Listesi", "Holokost drama filmi", "Liam Neeson", "En İyi Film Akademi Ödülü", "Steven Spielberg filmi"),
    Film("Leon", "Aksiyon-gerilim filmi", "Jean Reno", "Natalie Portman", "Yönetmen:Luc Besson"),
    Film("Indiana Jones: Kayıp Diyarın Peşinde", "Macera filmi", "Harrison Ford", "Karen Allen", "Yönetmen:Steven Spielberg"),
    Film("Baba", "Mafya filmi", "Marlon Brando", "Al Pacino", "En İyi Film Akademi Ödülü"),
    Film("Pulp Fiction", "Suç filmi", "John Travolta", "Samuel L. Jackson", "Quentin Tarantino filmi"),
    Film("Matrix Reloaded", "Bilim kurgu filmi", "Keanu Reeves", "Laurence Fishburne", "Yönetmen:Wachowski Kardeşler"),
    Film("12 Öfkeli Adam", "Drama filmi", "Henry Fonda", "En İyi Film Akademi Ödülü", "Sidney Lumet filmi"),
    Film("Başlangıç", "Bilim kurgu filmi", "Leonardo DiCaprio", "Christopher Nolan filmi", "Tom Hardy"),
    Film("Parazit", "Kara mizah filmi", "Song Kang-ho", "En İyi Film Akademi Ödülü", "Bong Joon-ho filmi"),
    Film("Ejderha Dövmeli Kız", "Suç-drama filmi", "Rooney Mara", "Daniel Craig", "David Fincher filmi"),
    Film("Mucize", "Drama filmi", "Talat Bulut", "Mert Turak", "Mahsun Kırmızıgül filmi"),
    Film("Amélie", "Romantik-komedi filmi", "Audrey Tautou", "Mathieu Kassovitz", "Yönetmen:Jean-Pierre Jeunet"),
    Film("Sihirbazlar Çetesi", "Büyücülük temalı", "Jesse Eisenberg", "Woody Harrelson", "Yönetmen:Louis Leterrier"),
    Film("Dunkirk", "Savaş filmi", "Tom Hardy", "Christopher Nolan filmi", "Harry Styles"),
    Film("Life of Pi", "Macera-drama filmi", "Suraj Sharma", "Irrfan Khan", "Ang Lee filmi"),
]
# tahmin edilen filmin doğru olup olmadığını kontrol etme fonksiyonu
def kontrol_et(film, tahmin):
    return tahmin.lower() == film.isim.lower()

# oyunun başladığını belirten mesajı yazdırma
print("Film tahmin oyununa hoş geldiniz!")

# rastgele bir film seçme
film = random.choice(filmler)

# oyuncunun tahmin hakkı sayısı
tahmin_hakki = 4

# oyunun ana döngüsü
while tahmin_hakki > 0:
    print(f"{tahmin_hakki} tahmin hakkınız kaldı.")
    tahmin = input("Filmin adını tahmin edin: ")
    try:
        if not guess.isalnum():
            raise ValueError("Tahmin yalnızca harf ve rakam içermelidir.")
    except ValueError as error:
        print(f"Hata: {error}")
        continue

    if kontrol_et(film, tahmin):
        print("Tebrikler, doğru tahmin ettiniz!")
        break

    tahmin_hakki -= 1

    if tahmin_hakki == 3:
        print(f"İpucu 1: {film.ipucu1}")
    elif tahmin_hakki == 2:
        print(f"İpucu 2: {film.ipucu2}")
    elif tahmin_hakki == 1:
        print(f"İpucu 3: {film.ipucu3}")
        print("Son tahmin hakkınızı kullanın.")
        
    if tahmin_hakki == 0:
        print("Cevap kontrol ediliyor...")
        time.sleep(1)
        print(f"Maalesef yanlış cevap. Son tahmin hakkınız: {tahmin_hakki}")
        print(f"Son ipucu: {film.ipucu4}")

print("Oyun bitti. Tekrar oynamak isterseniz yeniden başlatın.")
